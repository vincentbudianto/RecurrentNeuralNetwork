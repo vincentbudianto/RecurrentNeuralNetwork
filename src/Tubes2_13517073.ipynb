{
 "cells": [
  {
   "cell_type": "markdown",
   "metadata": {},
   "source": [
    "# Tugas Besar 2 IF4074 - Pembelajaran Mesin Lanjut\n",
    "------------------------------------------\n",
    "##### NIM/Nama  : 13517073/Rayza Mahendra | 13517131/Jan Meyer Saragih | 13517137/Vincent Budianto\n",
    "##### Nama file : Tubes2_13517073.ipynb\n",
    "##### Topik     : RNN - Forward Propragation\n",
    "##### Tanggal   : 06 November 2020\n",
    "------------------------------------------"
   ]
  },
  {
   "cell_type": "markdown",
   "metadata": {},
   "source": [
    "## &nbsp; I. Penjelasan Kode"
   ]
  },
  {
   "cell_type": "markdown",
   "metadata": {},
   "source": [
    "### A. Class HiddenLayer\n",
    "Kelas HiddenLayer berisi proses convolution merupakan proses pertama dari convolution layer pada RNN. Pada tahap ini, input akan diextract dalam matriks-matriks. Kelas HiddenLayer menerima variabel berupa:\n",
    "* input_size\n",
    "* hidden_size\n",
    "* output_size\n",
    "\n",
    "#### 1. fungsi initialize_weight(self, weight_type = -1, hidden_weight = None, output_weight = None, hidden_transition_weight = None)\n",
    "``\n",
    "\n",
    "#### 2. fungsi reset_history(self)\n",
    "``\n",
    "\n",
    "#### 3. fungsi get_history(self, layer_part = 'input', iteration = None)\n",
    "``\n",
    "\n",
    "#### 4. fungsi forward_propagation_sequences(self, sequences, record_history = False)\n",
    "``\n",
    "\n",
    "#### 5. fungsi forward_propagation(self, input_features, record_history = False)\n",
    "``\n",
    "\n",
    "#### 6. fungsi activation_function(self, X, function_type)\n",
    "``"
   ]
  },
  {
   "cell_type": "markdown",
   "metadata": {},
   "source": [
    "## &nbsp;II. Hasil Pengujian"
   ]
  },
  {
   "cell_type": "markdown",
   "metadata": {},
   "source": [
    "### Import"
   ]
  },
  {
   "cell_type": "code",
   "execution_count": 1,
   "metadata": {},
   "outputs": [],
   "source": [
    "from hiddenlayer import HiddenLayer"
   ]
  },
  {
   "cell_type": "markdown",
   "metadata": {},
   "source": [
    "### Test 1\n",
    "* sequence = `[[1, 2, -3, 4], [3, -1, 2, 0], [1, -1, 4, -3], [3, 2, 0, -1]]`\n",
    "* input_size = `4`\n",
    "* hidden_size = `3`\n",
    "* output_size = `4`"
   ]
  },
  {
   "cell_type": "code",
   "execution_count": 3,
   "metadata": {
    "tags": []
   },
   "outputs": [
    {
     "output_type": "stream",
     "name": "stdout",
     "text": "ITERATE\n[1, 2, -3, 4]\n[[1. 1. 1.]\n [1. 1. 1.]\n [1. 1. 1.]\n [1. 1. 1.]]\n[4. 4. 4.]\n[12. 12. 12. 12.]\nITERATE\n[3, -1, 2, 0]\n[[1. 1. 1.]\n [1. 1. 1.]\n [1. 1. 1.]\n [1. 1. 1.]]\n[16. 16. 16.]\n[48. 48. 48. 48.]\nITERATE\n[1, -1, 4, -3]\n[[1. 1. 1.]\n [1. 1. 1.]\n [1. 1. 1.]\n [1. 1. 1.]]\n[49. 49. 49.]\n[147. 147. 147. 147.]\nITERATE\n[3, 2, 0, -1]\n[[1. 1. 1.]\n [1. 1. 1.]\n [1. 1. 1.]\n [1. 1. 1.]]\n[151. 151. 151.]\n[453. 453. 453. 453.]\n\ninput unit value:\n[[1, 2, -3, 4], [3, -1, 2, 0], [1, -1, 4, -3], [3, 2, 0, -1]]\n\nhidden unit value:\n[array([4., 4., 4.]), array([16., 16., 16.]), array([49., 49., 49.]), array([151., 151., 151.])]\n\noutput unit value:\n[array([0.99999386, 0.99999386, 0.99999386, 0.99999386]), array([1., 1., 1., 1.]), array([1., 1., 1., 1.]), array([1., 1., 1., 1.])]\n"
    }
   ],
   "source": [
    "sequence1 = [[1, 2, -3, 4], [3, -1, 2, 0], [1, -1, 4, -3], [3, 2, 0, -1]]\n",
    "\n",
    "h1 = HiddenLayer(input_size = 4, hidden_size = 3, output_size = 4)\n",
    "h1.initialize_weight(weight_type = 1)\n",
    "h1.forward_propagation_sequences(sequence1, record_history = True)\n",
    "\n",
    "print('\\ninput unit value:')\n",
    "print(h1.input_history)\n",
    "print('\\nhidden unit value:')\n",
    "print(h1.hidden_history)\n",
    "print('\\noutput unit value:')\n",
    "print(h1.output_history)"
   ]
  },
  {
   "cell_type": "markdown",
   "metadata": {},
   "source": [
    "### Test 2\n",
    "* sequence = `[[1, 2, -3, 4], [3, -1, 2, 0], [1, -1, 4, -3], [3, 2, 0, -1]]`\n",
    "* input_size = `4`\n",
    "* hidden_size = `3`\n",
    "* output_size = `4`"
   ]
  },
  {
   "cell_type": "code",
   "execution_count": null,
   "metadata": {},
   "outputs": [],
   "source": [
    "sequence2 = [[1, 2, -3, 4], [3, -1, 2, 0], [1, -1, 4, -3], [3, 2, 0, -1]]\n",
    "\n",
    "h2 = HiddenLayer(input_size = 4, hidden_size = 3, output_size = 4)\n",
    "h2.initialize_weight(weight_type = 1)\n",
    "h2.forward_propagation_sequences(sequence2, record_history = True)\n",
    "\n",
    "print('\\ninput unit value:')\n",
    "print(h2.input_history)\n",
    "print('\\nhidden unit value:')\n",
    "print(h2.hidden_history)\n",
    "print('\\noutput unit value:')\n",
    "print(h2.output_history)"
   ]
  },
  {
   "cell_type": "markdown",
   "metadata": {},
   "source": [
    "### Test 3\n",
    "* sequence = `[[1, 2, -3, 4], [3, -1, 2, 0], [1, -1, 4, -3], [3, 2, 0, -1]]`\n",
    "* input_size = `4`\n",
    "* hidden_size = `3`\n",
    "* output_size = `4`"
   ]
  },
  {
   "cell_type": "code",
   "execution_count": null,
   "metadata": {},
   "outputs": [],
   "source": [
    "sequence3 = [[1, 2, -3, 4], [3, -1, 2, 0], [1, -1, 4, -3], [3, 2, 0, -1]]\n",
    "\n",
    "h3 = HiddenLayer(input_size = 4, hidden_size = 3, output_size = 4)\n",
    "h3.initialize_weight(weight_type = 1)\n",
    "h3.forward_propagation_sequences(sequence3, record_history = True)\n",
    "\n",
    "print('\\ninput unit value:')\n",
    "print(h3.input_history)\n",
    "print('\\nhidden unit value:')\n",
    "print(h3.hidden_history)\n",
    "print('\\noutput unit value:')\n",
    "print(h3.output_history)"
   ]
  },
  {
   "cell_type": "markdown",
   "metadata": {},
   "source": [
    "## III. Pembagian Tugas"
   ]
  },
  {
   "cell_type": "markdown",
   "metadata": {},
   "source": [
    "| NIM      | Nama              | Tugas                                                                  |\n",
    "|:--------:|:------------------|:-----------------------------------------------------------------------|\n",
    "| 13517073 | Rayza Mahendra    |  |\n",
    "| 13517131 | Jan Meyer Saragih |  |\n",
    "| 13517137 | Vincent Budianto  |  |"
   ]
  }
 ],
 "metadata": {
  "kernelspec": {
   "display_name": "Python 3",
   "language": "python",
   "name": "python3"
  },
  "language_info": {
   "codemirror_mode": {
    "name": "ipython",
    "version": 3
   },
   "file_extension": ".py",
   "mimetype": "text/x-python",
   "name": "python",
   "nbconvert_exporter": "python",
   "pygments_lexer": "ipython3",
   "version": "3.8.5-final"
  }
 },
 "nbformat": 4,
 "nbformat_minor": 2
}