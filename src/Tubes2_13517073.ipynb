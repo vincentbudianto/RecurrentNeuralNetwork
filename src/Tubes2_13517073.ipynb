{
 "cells": [
  {
   "cell_type": "markdown",
   "metadata": {},
   "source": [
    "# Tugas Besar 2 IF4074 - Pembelajaran Mesin Lanjut\n",
    "------------------------------------------\n",
    "##### NIM/Nama  : 13517073/Rayza Mahendra | 13517131/Jan Meyer Saragih | 13517137/Vincent Budianto\n",
    "##### Nama file : Tubes2_13517073.ipynb\n",
    "##### Topik     : RNN - Forward Propragation\n",
    "##### Tanggal   : 06 November 2020\n",
    "------------------------------------------"
   ]
  },
  {
   "cell_type": "markdown",
   "metadata": {},
   "source": [
    "## &nbsp; I. Penjelasan Kode"
   ]
  },
  {
   "cell_type": "markdown",
   "metadata": {},
   "source": [
    "### A. Class HiddenLayer\n",
    "Kelas HiddenLayer berisi proses convolution merupakan proses pertama dari convolution layer pada RNN. Pada tahap ini, input akan diextract dalam matriks-matriks. Kelas HiddenLayer menerima variabel berupa:\n",
    "* input_size\n",
    "* hidden_size\n",
    "* output_size\n",
    "\n",
    "#### 1. fungsi initialize_weight(self, weight_type = -1, hidden_weight = None, output_weight = None, hidden_transition_weight = None)\n",
    "`fungsi digunakan untuk menginisiasi nilai weight`\n",
    "* `weight_type = 1: weight bernilai 1`\n",
    "* `weight_type = 0: weight bernilai 0`\n",
    "* `weight_type = -1: weight bernilai random`\n",
    "* `weight_type = others: weight sudah didefinisikan sebelumnya (parameter hidden_weight dan output_weight tidak None)`\n",
    "\n",
    "#### 2. fungsi initialize_bias(self, bias_type = -1, hidden_bias = None, output_bias = None)\n",
    "`fungsi digunakan untuk menginisiasi nilai bias`\n",
    "* `bias_type = 1: bias bernilai 1`\n",
    "* `bias_type = 0: bias bernilai 0`\n",
    "* `bias_type = -1: bias bernilai random`\n",
    "* `bias_type = others: bias sudah didefinisikan sebelumnya (parameter hidden_bias dan output_bias tidak None)`\n",
    "\n",
    "#### 3. fungsi reset_history(self)\n",
    "`fungsi yang digunakan untuk menghapus riwayat input value, hidden value dan output value`\n",
    "\n",
    "#### 4. fungsi get_history(self, layer_part = 'input', iteration = None)\n",
    "`fungsi yang digunakan untuk mengembalikan riwayat input value, hidden value dan output value`\n",
    "\n",
    "#### 5. fungsi forward_propagation_sequences(self, sequences, record_history = False)\n",
    "`fungsi yang digunakan untuk melakukan forward propagation pada input sesuai dengan urutan timestepnya`\n",
    "\n",
    "#### 6. fungsi forward_propagation(self, input_features, record_history = False)\n",
    "`fungsi yang digunakan untuk melakukan forward propagation`\n",
    "\n",
    "#### 7. fungsi activation_function(self, X, function_type)\n",
    "`fungsi yang digunakan untuk mengaktivasi nilai X sesuai dengan fungsi aktivasi yang dipakai`"
   ]
  },
  {
   "cell_type": "markdown",
   "metadata": {},
   "source": [
    "## &nbsp;II. Hasil Pengujian"
   ]
  },
  {
   "cell_type": "markdown",
   "metadata": {},
   "source": [
    "### Import"
   ]
  },
  {
   "cell_type": "code",
   "execution_count": 1,
   "metadata": {},
   "outputs": [],
   "source": [
    "from hiddenlayer import HiddenLayer"
   ]
  },
  {
   "cell_type": "markdown",
   "metadata": {},
   "source": [
    "### Test 1\n",
    "* sequence = `[[1, 2, -3, 4], [3, -1, 2, 0], [1, -1, 4, -3], [3, 2, 0, -1], [2, 4, 3, 1]]`\n",
    "* input_size = `5`\n",
    "* hidden_size = `4`\n",
    "* output_size = `5`"
   ]
  },
  {
   "cell_type": "code",
   "execution_count": 2,
   "metadata": {
    "tags": []
   },
   "outputs": [
    {
     "output_type": "stream",
     "name": "stdout",
     "text": "\ninput unit value:\n[[1, 2, -3, 4], [3, -1, 2, 0], [1, -1, 4, -3], [3, 2, 0, -1], [2, 4, 3, 1]]\n\nhidden unit value:\n[array([5., 5., 5., 5.]), array([25., 25., 25., 25.]), array([102., 102., 102., 102.]), array([413., 413., 413., 413.]), array([1663., 1663., 1663., 1663.])]\n\noutput unit value:\n[array([1., 1., 1., 1., 1.]), array([1., 1., 1., 1., 1.]), array([1., 1., 1., 1., 1.]), array([1., 1., 1., 1., 1.]), array([1., 1., 1., 1., 1.])]\n"
    }
   ],
   "source": [
    "sequence1 = [[1, 2, -3, 4], [3, -1, 2, 0], [1, -1, 4, -3], [3, 2, 0, -1], [2, 4, 3, 1]]\n",
    "\n",
    "h1 = HiddenLayer(input_size = 4, hidden_size = 4, output_size = 5)\n",
    "h1.initialize_weight(weight_type = 1)\n",
    "h1.initialize_bias(1)\n",
    "h1.forward_propagation_sequences(sequence1, record_history = True)\n",
    "\n",
    "print('\\ninput unit value:')\n",
    "print(h1.input_history)\n",
    "print('\\nhidden unit value:')\n",
    "print(h1.hidden_history)\n",
    "print('\\noutput unit value:')\n",
    "print(h1.output_history)"
   ]
  },
  {
   "cell_type": "markdown",
   "metadata": {},
   "source": [
    "### Test 2\n",
    "* sequence = `[[1, 2, -3, 4], [3, -1, 2, 0], [1, -1, 4, -3], [3, 2, 0, -1]]`\n",
    "* input_size = `4`\n",
    "* hidden_size = `3`\n",
    "* output_size = `4`"
   ]
  },
  {
   "cell_type": "code",
   "execution_count": 3,
   "metadata": {
    "tags": []
   },
   "outputs": [
    {
     "output_type": "stream",
     "name": "stdout",
     "text": "\ninput unit value:\n[[1, 2, -3, 4], [3, -1, 2, 0], [1, -1, 4, -3], [3, 2, 0, -1]]\n\nhidden unit value:\n[array([5., 5., 5.]), array([20., 20., 20.]), array([62., 62., 62.]), array([191., 191., 191.])]\n\noutput unit value:\n[array([0.99999989, 0.99999989, 0.99999989, 0.99999989]), array([1., 1., 1., 1.]), array([1., 1., 1., 1.]), array([1., 1., 1., 1.])]\n"
    }
   ],
   "source": [
    "sequence2 = [[1, 2, -3, 4], [3, -1, 2, 0], [1, -1, 4, -3], [3, 2, 0, -1]]\n",
    "\n",
    "h2 = HiddenLayer(input_size = 4, hidden_size = 3, output_size = 4)\n",
    "h2.initialize_weight(weight_type = 1)\n",
    "h2.initialize_bias(1)\n",
    "h2.forward_propagation_sequences(sequence2, record_history = True)\n",
    "\n",
    "print('\\ninput unit value:')\n",
    "print(h2.input_history)\n",
    "print('\\nhidden unit value:')\n",
    "print(h2.hidden_history)\n",
    "print('\\noutput unit value:')\n",
    "print(h2.output_history)"
   ]
  },
  {
   "cell_type": "markdown",
   "metadata": {},
   "source": [
    "### Test 3\n",
    "* sequence = `[[1, 2, -3, 4], [3, -1, 2, 0], [1, -1, 4, -3]]`\n",
    "* input_size = `3`\n",
    "* hidden_size = `3`\n",
    "* output_size = `3`"
   ]
  },
  {
   "cell_type": "code",
   "execution_count": 4,
   "metadata": {
    "tags": []
   },
   "outputs": [
    {
     "output_type": "stream",
     "name": "stdout",
     "text": "\ninput unit value:\n[[1, 2, -3, 4], [3, -1, 2, 0], [1, -1, 4, -3]]\n\nhidden unit value:\n[array([5., 5., 5.]), array([20., 20., 20.]), array([62., 62., 62.])]\n\noutput unit value:\n[array([0.99999989, 0.99999989, 0.99999989]), array([1., 1., 1.]), array([1., 1., 1.])]\n"
    }
   ],
   "source": [
    "sequence3 = [[1, 2, -3, 4], [3, -1, 2, 0], [1, -1, 4, -3]]\n",
    "\n",
    "h3 = HiddenLayer(input_size = 4, hidden_size = 3, output_size = 3)\n",
    "h3.initialize_weight(weight_type = 1)\n",
    "h3.initialize_bias(1)\n",
    "h3.forward_propagation_sequences(sequence3, record_history = True)\n",
    "\n",
    "print('\\ninput unit value:')\n",
    "print(h3.input_history)\n",
    "print('\\nhidden unit value:')\n",
    "print(h3.hidden_history)\n",
    "print('\\noutput unit value:')\n",
    "print(h3.output_history)"
   ]
  },
  {
   "cell_type": "markdown",
   "metadata": {},
   "source": [
    "## III. Pembagian Tugas"
   ]
  },
  {
   "cell_type": "markdown",
   "metadata": {},
   "source": [
    "| NIM      | Nama              | Tugas                                                                  |\n",
    "|:--------:|:------------------|:-----------------------------------------------------------------------|\n",
    "| 13517073 | Rayza Mahendra    | Forward propagation, Laporan |\n",
    "| 13517131 | Jan Meyer Saragih | Forward propagation, History, Laporan |\n",
    "| 13517137 | Vincent Budianto  | Forward propagation, Bias, Laporan |"
   ]
  }
 ],
 "metadata": {
  "kernelspec": {
   "display_name": "Python 3",
   "language": "python",
   "name": "python3"
  },
  "language_info": {
   "codemirror_mode": {
    "name": "ipython",
    "version": 3
   },
   "file_extension": ".py",
   "mimetype": "text/x-python",
   "name": "python",
   "nbconvert_exporter": "python",
   "pygments_lexer": "ipython3",
   "version": "3.8.5-final"
  }
 },
 "nbformat": 4,
 "nbformat_minor": 2
}
